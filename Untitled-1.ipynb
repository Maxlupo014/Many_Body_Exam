{
 "cells": [
  {
   "cell_type": "markdown",
   "metadata": {},
   "source": [
    "## Simulation of Hofsadter Butterfly"
   ]
  },
  {
   "cell_type": "code",
   "execution_count": 1,
   "metadata": {},
   "outputs": [],
   "source": [
    "import numpy as np"
   ]
  },
  {
   "cell_type": "markdown",
   "metadata": {},
   "source": [
    "### parameters of the simulation"
   ]
  },
  {
   "cell_type": "code",
   "execution_count": 2,
   "metadata": {},
   "outputs": [],
   "source": [
    "size=2\n",
    "PBC=True\n",
    "T=14325235"
   ]
  },
  {
   "cell_type": "markdown",
   "metadata": {},
   "source": [
    "### Label double index to single one and viceversa (starting from bottom right to top left, filling every row from left to right)"
   ]
  },
  {
   "cell_type": "code",
   "execution_count": 3,
   "metadata": {},
   "outputs": [],
   "source": [
    "def get_single_index_from_double(n,m, size=size): #n is row, m is column\n",
    "    index=n*size+m\n",
    "    return index\n",
    "\n",
    "def get_double_index_from_single(index, size=size):\n",
    "    m=index % size\n",
    "    n=index//size \n",
    "    return n,m"
   ]
  },
  {
   "cell_type": "markdown",
   "metadata": {},
   "source": [
    "### Get state label from state"
   ]
  },
  {
   "cell_type": "code",
   "execution_count": 4,
   "metadata": {},
   "outputs": [],
   "source": [
    "def get_state(state_number, size=size):\n",
    "    state=np.zeros(size**2, dtype=bool)\n",
    "    for i in range(size**2-1, -1, -1):\n",
    "        if state_number % 2^i == 1:\n",
    "            state[i] = True\n",
    "        state_number=state_number - 2^i\n",
    "\n",
    "    return state\n"
   ]
  },
  {
   "cell_type": "markdown",
   "metadata": {},
   "source": [
    "### compute hamiltonian components"
   ]
  },
  {
   "cell_type": "markdown",
   "metadata": {},
   "source": [
    "#### $H=T(\\sum_{<i,j>}e^{i\\theta_{n,m}}c^{\\dag}_{n^{\\prime},m^{\\prime}}c_{n,m}+h.c.)$ with $\\theta_{m,n}=\\frac{e}{\\hbar}\\int_{m,n}^{m\\prime,n\\prime}A\\cdot dl$"
   ]
  },
  {
   "cell_type": "code",
   "execution_count": 5,
   "metadata": {},
   "outputs": [
    {
     "name": "stdout",
     "output_type": "stream",
     "text": [
      "Hamiltonian H: [[        0.+0.j         0.+0.j         0.+0.j -14325235.+0.j\n",
      "          0.+0.j         0.+0.j         0.+0.j -14325235.+0.j\n",
      "          0.+0.j         0.+0.j         0.+0.j -14325235.+0.j\n",
      "          0.+0.j         0.+0.j         0.+0.j -14325235.+0.j]\n",
      " [        0.+0.j         0.+0.j         0.+0.j         0.+0.j\n",
      "          0.+0.j         0.+0.j         0.+0.j         0.+0.j\n",
      "          0.+0.j         0.+0.j         0.+0.j         0.+0.j\n",
      "          0.+0.j         0.+0.j         0.+0.j         0.+0.j]\n",
      " [        0.+0.j         0.+0.j         0.+0.j         0.+0.j\n",
      "          0.+0.j         0.+0.j         0.+0.j         0.+0.j\n",
      "          0.+0.j         0.+0.j         0.+0.j         0.+0.j\n",
      "          0.+0.j         0.+0.j         0.+0.j         0.+0.j]\n",
      " [-14325235.+0.j         0.+0.j         0.+0.j         0.+0.j\n",
      "          0.+0.j         0.+0.j         0.+0.j         0.+0.j\n",
      "          0.+0.j         0.+0.j         0.+0.j         0.+0.j\n",
      "          0.+0.j         0.+0.j         0.+0.j         0.+0.j]\n",
      " [        0.+0.j         0.+0.j         0.+0.j         0.+0.j\n",
      "          0.+0.j         0.+0.j         0.+0.j         0.+0.j\n",
      "          0.+0.j         0.+0.j         0.+0.j         0.+0.j\n",
      "          0.+0.j         0.+0.j         0.+0.j         0.+0.j]\n",
      " [        0.+0.j         0.+0.j         0.+0.j         0.+0.j\n",
      "          0.+0.j         0.+0.j         0.+0.j         0.+0.j\n",
      "          0.+0.j         0.+0.j         0.+0.j         0.+0.j\n",
      "          0.+0.j         0.+0.j         0.+0.j         0.+0.j]\n",
      " [        0.+0.j         0.+0.j         0.+0.j         0.+0.j\n",
      "          0.+0.j         0.+0.j         0.+0.j         0.+0.j\n",
      "          0.+0.j         0.+0.j         0.+0.j         0.+0.j\n",
      "          0.+0.j         0.+0.j         0.+0.j         0.+0.j]\n",
      " [-14325235.+0.j         0.+0.j         0.+0.j         0.+0.j\n",
      "          0.+0.j         0.+0.j         0.+0.j         0.+0.j\n",
      "          0.+0.j         0.+0.j         0.+0.j         0.+0.j\n",
      "          0.+0.j         0.+0.j         0.+0.j         0.+0.j]\n",
      " [        0.+0.j         0.+0.j         0.+0.j         0.+0.j\n",
      "          0.+0.j         0.+0.j         0.+0.j         0.+0.j\n",
      "          0.+0.j         0.+0.j         0.+0.j         0.+0.j\n",
      "          0.+0.j         0.+0.j         0.+0.j         0.+0.j]\n",
      " [        0.+0.j         0.+0.j         0.+0.j         0.+0.j\n",
      "          0.+0.j         0.+0.j         0.+0.j         0.+0.j\n",
      "          0.+0.j         0.+0.j         0.+0.j         0.+0.j\n",
      "          0.+0.j         0.+0.j         0.+0.j         0.+0.j]\n",
      " [        0.+0.j         0.+0.j         0.+0.j         0.+0.j\n",
      "          0.+0.j         0.+0.j         0.+0.j         0.+0.j\n",
      "          0.+0.j         0.+0.j         0.+0.j         0.+0.j\n",
      "          0.+0.j         0.+0.j         0.+0.j         0.+0.j]\n",
      " [-14325235.+0.j         0.+0.j         0.+0.j         0.+0.j\n",
      "          0.+0.j         0.+0.j         0.+0.j         0.+0.j\n",
      "          0.+0.j         0.+0.j         0.+0.j         0.+0.j\n",
      "          0.+0.j         0.+0.j         0.+0.j         0.+0.j]\n",
      " [        0.+0.j         0.+0.j         0.+0.j         0.+0.j\n",
      "          0.+0.j         0.+0.j         0.+0.j         0.+0.j\n",
      "          0.+0.j         0.+0.j         0.+0.j         0.+0.j\n",
      "          0.+0.j         0.+0.j         0.+0.j         0.+0.j]\n",
      " [        0.+0.j         0.+0.j         0.+0.j         0.+0.j\n",
      "          0.+0.j         0.+0.j         0.+0.j         0.+0.j\n",
      "          0.+0.j         0.+0.j         0.+0.j         0.+0.j\n",
      "          0.+0.j         0.+0.j         0.+0.j         0.+0.j]\n",
      " [        0.+0.j         0.+0.j         0.+0.j         0.+0.j\n",
      "          0.+0.j         0.+0.j         0.+0.j         0.+0.j\n",
      "          0.+0.j         0.+0.j         0.+0.j         0.+0.j\n",
      "          0.+0.j         0.+0.j         0.+0.j         0.+0.j]\n",
      " [-14325235.+0.j         0.+0.j         0.+0.j         0.+0.j\n",
      "          0.+0.j         0.+0.j         0.+0.j         0.+0.j\n",
      "          0.+0.j         0.+0.j         0.+0.j         0.+0.j\n",
      "          0.+0.j         0.+0.j         0.+0.j         0.+0.j]]\n",
      "Hamiltonian H shape: (16, 16)\n"
     ]
    }
   ],
   "source": [
    "def check_if_occupied(n,m,state): ## check if the site (n,m) is occupied\n",
    "    if state[get_single_index_from_double(n,m)] == True:\n",
    "        return True\n",
    "    else:\n",
    "        return False\n",
    "    \n",
    "\n",
    "H=np.zeros((2**(size**2), 2**(size**2)),dtype=complex)\n",
    "\n",
    "for i in range(2**(size**2)):\n",
    "    state = get_state(i)\n",
    "    (n,m)= get_double_index_from_single(i)\n",
    "\n",
    "    # for k in range (-1,2,1):\n",
    "    #     for l in range (-1,2,1): ##check if adjacents are occupied ###COMMENT: HAS HOPPING THERM A i-i TERM? se si decommenta questo\n",
    "    for k in [-1, 1]:\n",
    "        for l in [-1,1]:\n",
    "            if PBC:\n",
    "                n_k = (n + k) % size\n",
    "                m_l = (m + l) % size\n",
    "            else:\n",
    "                n_k = n + k\n",
    "                m_l = m + l\n",
    "                if n_k < 0 or n_k > size-1 or m_l < 0 or m_l > size-1:\n",
    "                    continue\n",
    "            if check_if_occupied(n_k,m_l,state):\n",
    "                H[get_single_index_from_double(n_k, m_l), i ] = -T\n",
    "\n",
    "H=np.conjugate(H.T)+H\n",
    "print(\"Hamiltonian H:\", H)\n",
    "print(\"Hamiltonian H shape:\", H.shape)"
   ]
  }
 ],
 "metadata": {
  "kernelspec": {
   "display_name": "qc24",
   "language": "python",
   "name": "python3"
  },
  "language_info": {
   "codemirror_mode": {
    "name": "ipython",
    "version": 3
   },
   "file_extension": ".py",
   "mimetype": "text/x-python",
   "name": "python",
   "nbconvert_exporter": "python",
   "pygments_lexer": "ipython3",
   "version": "3.13.0"
  }
 },
 "nbformat": 4,
 "nbformat_minor": 2
}
