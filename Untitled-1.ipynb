{
 "cells": [
  {
   "cell_type": "markdown",
   "metadata": {},
   "source": [
    "## Simulation of Hofsadter Butterfly"
   ]
  },
  {
   "cell_type": "code",
   "execution_count": 1,
   "metadata": {},
   "outputs": [],
   "source": [
    "import numpy as np\n",
    "from math import comb\n",
    "from tabulate import tabulate"
   ]
  },
  {
   "cell_type": "markdown",
   "metadata": {},
   "source": [
    "### parameters of the simulation"
   ]
  },
  {
   "cell_type": "code",
   "execution_count": 2,
   "metadata": {},
   "outputs": [],
   "source": [
    "size=4\n",
    "PBC=True\n",
    "T=3.3\n",
    "p=1\n",
    "q=2\n",
    "alpha=p/q #magnetic flux per cell"
   ]
  },
  {
   "cell_type": "markdown",
   "metadata": {},
   "source": [
    "### Label double index to single one and viceversa (starting from bottom right to top left, filling every row from left to right)"
   ]
  },
  {
   "cell_type": "code",
   "execution_count": 3,
   "metadata": {},
   "outputs": [],
   "source": [
    "def get_single_index_from_double(n,m, size=size): #n is column, m is row\n",
    "    index=m*size+n\n",
    "    return index\n",
    "\n",
    "def get_double_index_from_single(index, size=size):\n",
    "    n=index % size\n",
    "    m=index//size \n",
    "    return n,m"
   ]
  },
  {
   "cell_type": "code",
   "execution_count": null,
   "metadata": {},
   "outputs": [],
   "source": []
  },
  {
   "cell_type": "markdown",
   "metadata": {},
   "source": [
    "### Get state label from state and viceversa"
   ]
  },
  {
   "cell_type": "code",
   "execution_count": null,
   "metadata": {},
   "outputs": [],
   "source": [
    "def get_state_from_label(state_number, size=size):\n",
    "    state=np.zeros(size**2, dtype=bool)\n",
    "    for i in range((size**2-1), -1, -1):\n",
    "        if state_number >= (2**i):\n",
    "            state[i] = True\n",
    "            state_number=state_number - (2**i)\n",
    "    return state\n",
    "\n",
    "\n",
    "def get_label_from_state(state, size=size):\n",
    "    state_number=0\n",
    "    for i in range(size**2-1, -1, -1):\n",
    "        if state[i]:\n",
    "            state_number += 2**i\n",
    "    return state_number\n",
    "\n",
    "def get_double_index_state_from_label(state_number, size=size):\n",
    "    state=get_state_from_label(state_number, size=size)\n",
    "    double_index_state=np.zeros((size,size), dtype=bool)\n",
    "    for i in range(size):\n",
    "        for j in range(size):\n",
    "            double_index_state[i,j]=state[get_single_index_from_double(i,j, size=size)]\n",
    "    return double_index_state\n",
    "\n",
    "\n",
    "def get_state_of_fixed_electron_number(i, N, size=size): \n",
    "    #this process can be optimized, comb might be a bottlneck\n",
    "    #to make it better you can generate all possible number of N digits in base size^2 in crescent order directly in the for loop skipping the repetitions\n",
    "    #also can be done directly by generating all combinations, maybe there is a fast algorithm to do it\n",
    "    if N > size**2 or i < 0:   \n",
    "        raise ValueError(\"Invalid input: n must be <= total_bits and index must be non-negative.\")\n",
    "    \n",
    "    result = 0\n",
    "    for bit in range(size**2):\n",
    "        if N== 0:\n",
    "            break\n",
    "        # Calculate the number of combinations if we place a 1 at this bit\n",
    "        combinations = comb(size**2-bit, N - 1)\n",
    "        if i < combinations:\n",
    "            # Place a 1 at this bit\n",
    "            result |= (1 << bit)\n",
    "            N -= 1\n",
    "        else:\n",
    "            # Skip this bit\n",
    "            i -= combinations\n",
    "    if N != 0:\n",
    "        raise ValueError(\"Index out of range for the given number of ones.\")\n",
    "    \n",
    "    state= get_state_from_label(result, size=size)\n",
    "    #print(result)\n",
    "    return state\n",
    "\n",
    "\n"
   ]
  },
  {
   "cell_type": "markdown",
   "metadata": {},
   "source": [
    "### compute hamiltonian components"
   ]
  },
  {
   "cell_type": "markdown",
   "metadata": {},
   "source": [
    "#### $H=T(\\sum_{<i,j>}e^{i\\theta_{n,m}}c^{\\dag}_{n^{\\prime},m^{\\prime}}c_{n,m}+h.c.)$ with $\\theta_{m,n}=\\frac{e}{\\hbar}\\int_{m,n}^{m\\prime,n\\prime}A\\cdot dl$"
   ]
  },
  {
   "cell_type": "markdown",
   "metadata": {},
   "source": [
    "#### define phase factor coefficients"
   ]
  },
  {
   "cell_type": "code",
   "execution_count": 5,
   "metadata": {},
   "outputs": [],
   "source": [
    "def get_phases(q=q,p=p, size=size):\n",
    "    if size%q != 0:\n",
    "        raise ValueError(\"Size must be divisible by q\") #condition can be relaxed when not using PBC, do in the future\n",
    "    else:\n",
    "        phases=np.zeros(q, dtype=complex)\n",
    "        for i in range(q):\n",
    "            phases[i] = np.exp(-2j * p * np.pi * i / q)\n",
    "    return phases  \n",
    "    "
   ]
  },
  {
   "cell_type": "markdown",
   "metadata": {},
   "source": [
    "### Helper funcitons"
   ]
  },
  {
   "cell_type": "code",
   "execution_count": 6,
   "metadata": {},
   "outputs": [],
   "source": [
    "def reduce_array_for_periodicity(state, shift, q=q, size=size): #this takes the full array value and contracts by column, shift is the step in the periodicty to account for\n",
    "    reduced_state=np.zeros((size//q,size), dtype=bool)\n",
    "    for i in range(size//q):\n",
    "        for j in range(size):\n",
    "            reduced_state[i,j]= state[i*q+shift,j]\n",
    "    return reduced_state\n",
    "\n",
    "def check_if_occupied(n,m,state): ## check if the site (n,m) is occupied\n",
    "    if state[get_single_index_from_double(n,m)] == True:\n",
    "        return True\n",
    "    else:\n",
    "        return False"
   ]
  },
  {
   "cell_type": "markdown",
   "metadata": {},
   "source": [
    "#### Compute matrix components"
   ]
  },
  {
   "cell_type": "code",
   "execution_count": 7,
   "metadata": {},
   "outputs": [],
   "source": [
    "\n",
    "    \n",
    "def get_full_hamiltonian(size=size, PBC=PBC, T=T, p=p, q=q, progress_bar=False):\n",
    "    H=np.zeros((2**(size**2), 2**(size**2)),dtype=complex)\n",
    "    phases= get_phases(q, size=size)\n",
    "\n",
    "    t=0\n",
    "    for i in range(2**(size**2)):\n",
    "        if progress_bar:\n",
    "            t=t+1\n",
    "            print(f\"Processing state {t}/{2**(size**2)}\")     #uncomment for progress bar\n",
    "\n",
    "        ket_state = get_state_from_label(i, size=size)\n",
    "        ket_state_double = get_double_index_state_from_label(i) \n",
    "        bra_state = np.zeros(size**2, dtype=bool)\n",
    "\n",
    "        for period_index in range(len(phases)):\n",
    "            bra_state = np.zeros(size**2, dtype=bool)\n",
    "            reduced_state = reduce_array_for_periodicity(ket_state_double, period_index, q)\n",
    "            for index1 in range(size//q):\n",
    "                for index2 in range(size):\n",
    "                    if reduced_state[index1,index2]==True:\n",
    "                        n=index1*q+period_index\n",
    "                        m=index2\n",
    "                        for k in ([-1,+1]): ##drop the minus one if the you want to add the conjugate\n",
    "                            if PBC:\n",
    "                                m_k = (m + k) % size\n",
    "                            else:\n",
    "                                m_k = m + k\n",
    "                                if m_k < 0 or m_k > size-1:\n",
    "                                    continue\n",
    "                        bra_state[get_single_index_from_double(n,m_k)]=True\n",
    "            H[get_label_from_state(ket_state), get_label_from_state(bra_state)] = (-phases[period_index])**(-1) * T\n",
    "\n",
    "\n",
    "        for index in range(len(ket_state)):\n",
    "            bra_state = np.zeros(size**2, dtype=bool)\n",
    "            if ket_state[index]==True:    # for    #DA CPRREGGERE; DEVI CONRE^^TROLLARE TUTTI GLI UNI PER OGNI STATO\n",
    "                (n,m)= get_double_index_from_single(index)  \n",
    "                for k in ([-1,+1]): \n",
    "                    if PBC:\n",
    "                        n_k = (n + k) % size\n",
    "                    else:\n",
    "                        n_k = n + 1\n",
    "                        if n_k < 0 or n_k > size-1:\n",
    "                            continue\n",
    "                bra_state[get_single_index_from_double(n_k, m)] = True\n",
    "        H[get_label_from_state(ket_state), get_label_from_state(bra_state)] = -T\n",
    "    return H  \n",
    "\n",
    "#H=np.conjugate(H.T)+H# THIS IS HORRIBLY INEFFICENT, FUCK YOU NUMPY\n",
    "# print(\"Hamiltonian H:\", H)\n",
    "# print(\"Hamiltonian H shape:\", H.shape)"
   ]
  },
  {
   "cell_type": "markdown",
   "metadata": {},
   "source": [
    "### Temp"
   ]
  },
  {
   "cell_type": "code",
   "execution_count": 8,
   "metadata": {},
   "outputs": [],
   "source": [
    "N=1  #electrons number\n",
    "one_electron=False\n",
    "if one_electron:\n",
    "    N=1\n",
    "\n",
    "\n",
    "def get_number_of_state_per_fixed_number(N, size=size):\n",
    "    if one_electron:\n",
    "        fixed_size=size**2\n",
    "    else:\n",
    "        fixed_size=comb(size**2 , N)\n",
    "\n",
    "    return fixed_size\n",
    "\n",
    "def find_index_of_state(state_list, target_state):\n",
    "    #print(target_state)\n",
    "    for temp, state in enumerate(state_list):\n",
    "        if np.array_equal(state, target_state): \n",
    "            return temp\n",
    "    return -1"
   ]
  },
  {
   "cell_type": "code",
   "execution_count": null,
   "metadata": {},
   "outputs": [
    {
     "name": "stdout",
     "output_type": "stream",
     "text": [
      "120\n",
      "3\n",
      "5\n",
      "9\n",
      "17\n",
      "33\n",
      "65\n",
      "129\n",
      "257\n",
      "513\n",
      "1025\n",
      "2049\n",
      "4097\n",
      "8193\n",
      "16385\n",
      "32769\n"
     ]
    },
    {
     "ename": "ValueError",
     "evalue": "Index out of range for the given number of ones.",
     "output_type": "error",
     "traceback": [
      "\u001b[0;31m---------------------------------------------------------------------------\u001b[0m",
      "\u001b[0;31mValueError\u001b[0m                                Traceback (most recent call last)",
      "Cell \u001b[0;32mIn[10], line 73\u001b[0m\n\u001b[1;32m     70\u001b[0m                     H[find_index_of_state(state_list,bra_state),i] \u001b[38;5;241m=\u001b[39m \u001b[38;5;241m-\u001b[39mT\n\u001b[1;32m     71\u001b[0m     \u001b[38;5;28;01mreturn\u001b[39;00m H\n\u001b[0;32m---> 73\u001b[0m H\u001b[38;5;241m=\u001b[39m\u001b[43mget_hamiltonian_for_fixed_number_of_electrons\u001b[49m\u001b[43m(\u001b[49m\u001b[38;5;241;43m2\u001b[39;49m\u001b[43m)\u001b[49m\n\u001b[1;32m     74\u001b[0m \u001b[38;5;28mprint\u001b[39m(\u001b[38;5;124m\"\u001b[39m\u001b[38;5;124mHamiltonian H shape:\u001b[39m\u001b[38;5;124m\"\u001b[39m, H\u001b[38;5;241m.\u001b[39mshape)\n\u001b[1;32m     76\u001b[0m \u001b[38;5;28mprint\u001b[39m(tabulate(H, tablefmt\u001b[38;5;241m=\u001b[39m\u001b[38;5;124m\"\u001b[39m\u001b[38;5;124mgrid\u001b[39m\u001b[38;5;124m\"\u001b[39m))\n",
      "Cell \u001b[0;32mIn[10], line 6\u001b[0m, in \u001b[0;36mget_hamiltonian_for_fixed_number_of_electrons\u001b[0;34m(N, PBC, T, p, q, progress_bar, size)\u001b[0m\n\u001b[1;32m      4\u001b[0m state_list \u001b[38;5;241m=\u001b[39m [\u001b[38;5;28;01mNone\u001b[39;00m] \u001b[38;5;241m*\u001b[39m fixed_size  \u001b[38;5;66;03m# Initialize state_list with the appropriate size\u001b[39;00m\n\u001b[1;32m      5\u001b[0m \u001b[38;5;28;01mfor\u001b[39;00m i \u001b[38;5;129;01min\u001b[39;00m \u001b[38;5;28mrange\u001b[39m(fixed_size):\n\u001b[0;32m----> 6\u001b[0m     state_list[i] \u001b[38;5;241m=\u001b[39m \u001b[43mget_state_of_fixed_electron_number\u001b[49m\u001b[43m(\u001b[49m\u001b[43mi\u001b[49m\u001b[43m,\u001b[49m\u001b[43m \u001b[49m\u001b[43mN\u001b[49m\u001b[43m)\u001b[49m \u001b[38;5;66;03m##crea inversa della funzione se vedi che questo è bottleneck\u001b[39;00m\n\u001b[1;32m      9\u001b[0m H\u001b[38;5;241m=\u001b[39mnp\u001b[38;5;241m.\u001b[39mzeros((fixed_size, fixed_size),dtype\u001b[38;5;241m=\u001b[39m\u001b[38;5;28mcomplex\u001b[39m)\n\u001b[1;32m     10\u001b[0m phases\u001b[38;5;241m=\u001b[39m get_phases(q, size\u001b[38;5;241m=\u001b[39msize)\n",
      "Cell \u001b[0;32mIn[4], line 47\u001b[0m, in \u001b[0;36mget_state_of_fixed_electron_number\u001b[0;34m(i, N, size)\u001b[0m\n\u001b[1;32m     45\u001b[0m         i \u001b[38;5;241m-\u001b[39m\u001b[38;5;241m=\u001b[39m combinations\n\u001b[1;32m     46\u001b[0m \u001b[38;5;28;01mif\u001b[39;00m N \u001b[38;5;241m!=\u001b[39m \u001b[38;5;241m0\u001b[39m:\n\u001b[0;32m---> 47\u001b[0m     \u001b[38;5;28;01mraise\u001b[39;00m \u001b[38;5;167;01mValueError\u001b[39;00m(\u001b[38;5;124m\"\u001b[39m\u001b[38;5;124mIndex out of range for the given number of ones.\u001b[39m\u001b[38;5;124m\"\u001b[39m)\n\u001b[1;32m     49\u001b[0m state\u001b[38;5;241m=\u001b[39m get_state_from_label(result, size\u001b[38;5;241m=\u001b[39msize)\n\u001b[1;32m     50\u001b[0m \u001b[38;5;28mprint\u001b[39m(result)\n",
      "\u001b[0;31mValueError\u001b[0m: Index out of range for the given number of ones."
     ]
    }
   ],
   "source": [
    "def get_hamiltonian_for_fixed_number_of_electrons( N, PBC=PBC, T=T, p=p, q=q, progress_bar=False, size=size):\n",
    "    fixed_size=get_number_of_state_per_fixed_number(N)\n",
    "    #print(fixed_size)\n",
    "    state_list = [None] * fixed_size  # Initialize state_list with the appropriate size\n",
    "    for i in range(fixed_size):\n",
    "        state_list[i] = get_state_of_fixed_electron_number(i, N) ##crea inversa della funzione se vedi che questo è bottleneck\n",
    "\n",
    "    \n",
    "    H=np.zeros((fixed_size, fixed_size),dtype=complex)\n",
    "    phases= get_phases(q, size=size)\n",
    "\n",
    "    t=0\n",
    "    for i in range(fixed_size):\n",
    "        if progress_bar:    \n",
    "            t=t+1\n",
    "            print(f\"Processing state {t}/{2**(size**2)}\")     #uncomment for progress bar\n",
    "\n",
    "        ket_state=state_list[i]\n",
    "        #print(\"ket_state:\", ket_state)\n",
    "        ket_state_double = get_double_index_state_from_label(get_label_from_state(ket_state, size=size), size=size)\n",
    "\n",
    "        for period_index in range(len(phases)):\n",
    "            \n",
    "            \n",
    "            reduced_state = reduce_array_for_periodicity(ket_state_double, period_index, q)\n",
    "            for k in ([-1,+1]): ##drop the minus one if the you want to add the conjugate\n",
    "                bra_state = np.zeros(size**2, dtype=bool)\n",
    "                #check=False      ##this is to avoid putting bra kets with all zeroes\n",
    "                for index1 in range(size//q):\n",
    "                    for index2 in range(size):\n",
    "                        if reduced_state[index1,index2]==True:\n",
    "                            check=True\n",
    "                            n=index1*q+period_index\n",
    "                            m=index2\n",
    "\n",
    "                            bra_state = ket_state.copy() \n",
    "                            bra_state[get_single_index_from_double(n,m)]=False\n",
    "                            if PBC:\n",
    "                                m_k = (m + k) % size\n",
    "                            else:\n",
    "                                m_k = m + k\n",
    "                                if m_k < 0 or m_k > size:\n",
    "                                    continue\n",
    "                            if check_if_occupied(n,m_k,ket_state): ##two fermionic creation operators give zero, this allow to exclude those cases\n",
    "                                continue\n",
    "                            bra_state[get_single_index_from_double(n,m_k)]=True\n",
    "                        #if check:\n",
    "                            H[find_index_of_state(state_list,bra_state),i] = -(phases[period_index])**(k) * T\n",
    "                    # print(\"ket_state:\", ket_state)\n",
    "                    # print(\"bra_state:\", bra_state)\n",
    "            \n",
    "\n",
    "        \n",
    "        for k in ([-1,+1]):             \n",
    "            for index in range(len(ket_state)):\n",
    "                bra_state = np.zeros(size**2, dtype=bool)\n",
    "                if ket_state[index]==True:   \n",
    "                    (n,m)= get_double_index_from_single(index)  \n",
    "                    bra_state = ket_state.copy() \n",
    "                    bra_state[get_single_index_from_double(n,m)]=False\n",
    "                    if PBC:\n",
    "                        n_k = (n + k) % size\n",
    "                    else:\n",
    "                        n_k = n + k\n",
    "                        if n_k < 0 or n_k > size:\n",
    "                            continue\n",
    "                    if check_if_occupied(n_k,m,ket_state):\n",
    "                        continue\n",
    "                    bra_state[get_single_index_from_double(n_k, m)] = True\n",
    "                    H[find_index_of_state(state_list,bra_state),i] = -T\n",
    "    return H\n",
    "\n",
    "H=get_hamiltonian_for_fixed_number_of_electrons(2)\n",
    "print(\"Hamiltonian H shape:\", H.shape)\n",
    "\n",
    "print(tabulate(H, tablefmt=\"grid\"))"
   ]
  },
  {
   "cell_type": "code",
   "execution_count": null,
   "metadata": {},
   "outputs": [],
   "source": [
    "M=np.zeros((2,2), dtype=complex)\n",
    "M[0,0]=1\n",
    "print(M)"
   ]
  },
  {
   "cell_type": "code",
   "execution_count": null,
   "metadata": {},
   "outputs": [],
   "source": [
    "print(-1 % 3)"
   ]
  },
  {
   "cell_type": "markdown",
   "metadata": {},
   "source": [
    "### Building Butterfly for fixed number of particles"
   ]
  }
 ],
 "metadata": {
  "kernelspec": {
   "display_name": "qc24",
   "language": "python",
   "name": "python3"
  },
  "language_info": {
   "codemirror_mode": {
    "name": "ipython",
    "version": 3
   },
   "file_extension": ".py",
   "mimetype": "text/x-python",
   "name": "python",
   "nbconvert_exporter": "python",
   "pygments_lexer": "ipython3",
   "version": "3.13.0"
  }
 },
 "nbformat": 4,
 "nbformat_minor": 2
}
